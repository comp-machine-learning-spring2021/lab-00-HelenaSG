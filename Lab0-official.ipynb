{
 "cells": [
  {
   "cell_type": "markdown",
   "id": "monthly-ambassador",
   "metadata": {},
   "source": [
    "# Lab 0 - notes\n",
    "\n",
    "### git commands:\n",
    "\n",
    "* make a new branch: `git checkout -b branchName`\n",
    "* add changes: `git add filename` or `git add -A`\n",
    "* commit changes: `git commit -m \"message\"`\n",
    "* push to github: `git push origin branchName`\n",
    "\n",
    "* update local copy: `git checkout main` -> `git pull origin main`\n"
   ]
  },
  {
   "cell_type": "markdown",
   "id": "ancient-corps",
   "metadata": {},
   "source": [
    "This is a markdown cell."
   ]
  },
  {
   "cell_type": "code",
   "execution_count": null,
   "id": "reverse-republican",
   "metadata": {},
   "outputs": [],
   "source": [
    "\n",
    "int1 = input(\"Enter an integer: \") \n",
    "int2 = input(\"\\nEnter the second integer: \") \n",
    "  \n",
    "sum = int(int1) + int(int2) \n",
    "\n",
    "print('\\nThe sum of ', int1, ' and ', int2, 'is: ', sum) \n"
   ]
  },
  {
   "cell_type": "markdown",
   "id": "binding-shirt",
   "metadata": {},
   "source": [
    "In the code cell above, Python is running underneath."
   ]
  }
 ],
 "metadata": {
  "kernelspec": {
   "display_name": "Python 3",
   "language": "python",
   "name": "python3"
  },
  "language_info": {
   "codemirror_mode": {
    "name": "ipython",
    "version": 3
   },
   "file_extension": ".py",
   "mimetype": "text/x-python",
   "name": "python",
   "nbconvert_exporter": "python",
   "pygments_lexer": "ipython3",
   "version": "3.7.3"
  }
 },
 "nbformat": 4,
 "nbformat_minor": 5
}
